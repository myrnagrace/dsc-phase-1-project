{
 "cells": [
  {
   "cell_type": "markdown",
   "metadata": {},
   "source": [
    "# Phase 1 Project - Outline\n",
    "\n",
    "# Overview\n",
    "\n",
    "# Business Problem\n",
    "Microsoft is looking to create a movie studio and our goal is to undestand the trends of what makes a successful by exploring the data that is given to us from Box Office Mojo, IMDB, Rotten Tomatoes, TheMovieDB, and The Numbers. We're going to take a look which genre \n",
    "## Business Value\n",
    "When analyzing through our given data, we will understand the metrics needed to propose a successful movie. \n",
    "\n",
    "# Data\n",
    "## Data Loading / Understanding\n",
    "- Load in the data and get a grasp of what is included/excluded.\n",
    "- What data will you / can you use?\n",
    "- What high-level points of interest do you notice?\n",
    "\n",
    "## Data Preparation\n",
    "- Clean, process, engineer the data as much as you need.\n",
    "\n",
    "# Questions\n",
    "## Question #1\n",
    "- Propose a question that you will look into answering.\n",
    "### Vizs / Conclusions\n",
    "- How can you *show* your findings?\n",
    "- Summarize your findings.\n",
    "\n",
    "## Question #2\n",
    "- Propose a question that you will look into answering.\n",
    "### Vizs / Conclusions\n",
    "- How can you *show* your findings?\n",
    "- Summarize your findings.\n",
    "\n",
    "## Question #3\n",
    "- Propose a question that you will look into answering.\n",
    "### Vizs / Conclusions\n",
    "- How can you *show* your findings?\n",
    "- Summarize your findings.\n",
    "\n",
    "\n",
    "# Conclusion / Recommendations\n",
    "- What three (minimum) recommendations can you make to your employer?\n",
    "    - *Frame these as **actionable** insights.*\n",
    "\n",
    "# Future Work\n",
    "- What would you work on (3 things) if you had another 6-months and more financial support?\n",
    "    - *Use this as an opportunity to try and re-up your contract!*\n",
    "    \n",
    "---"
   ]
  },
  {
   "cell_type": "markdown",
   "metadata": {},
   "source": [
    "***Notes***\n",
    "- Use `nbextensions` and the **Table of Contents** to organize your notebook.\n",
    "- Spend time planning your questions before you dig into coding.\n",
    "- Spend enough time on the project (total ~40 hrs), but not too much time! \n",
    "    - *Don't fall behind having done 50+ hours!*"
   ]
  },
  {
   "cell_type": "markdown",
   "metadata": {},
   "source": [
    "- <a href='https://docs.google.com/document/d/1ZFN9zle3-18Mtq2doEjMr3aUx2wCVySlQXzWuZiv_EY/edit'>*Phase 1 Project Checklist*</a>\n",
    "\n",
    "---\n",
    "\n",
    "- <a href='https://github.com/learn-co-curriculum/dsc-project-template/blob/template-mvp/dsc-phase1-project-template.ipynb'>*Template - MVP*</a>\n",
    "- <a href='https://github.com/learn-co-curriculum/dsc-project-template/blob/template-aab/dsc-phase1-project-template.ipynb'>*Template - AAB*</a>"
   ]
  }
 ],
 "metadata": {
  "kernelspec": {
   "display_name": "Python (learn-env)",
   "language": "python",
   "name": "learn-env"
  },
  "language_info": {
   "codemirror_mode": {
    "name": "ipython",
    "version": 3
   },
   "file_extension": ".py",
   "mimetype": "text/x-python",
   "name": "python",
   "nbconvert_exporter": "python",
   "pygments_lexer": "ipython3",
   "version": "3.8.5"
  },
  "toc": {
   "base_numbering": 1,
   "nav_menu": {},
   "number_sections": false,
   "sideBar": true,
   "skip_h1_title": false,
   "title_cell": "Table of Contents",
   "title_sidebar": "Contents",
   "toc_cell": false,
   "toc_position": {
    "height": "calc(100% - 180px)",
    "left": "10px",
    "top": "150px",
    "width": "431.797px"
   },
   "toc_section_display": true,
   "toc_window_display": true
  }
 },
 "nbformat": 4,
 "nbformat_minor": 5
}
